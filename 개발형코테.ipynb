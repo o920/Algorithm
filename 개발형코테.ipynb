{
 "cells": [
  {
   "cell_type": "code",
   "execution_count": 10,
   "metadata": {
    "scrolled": true
   },
   "outputs": [],
   "source": [
    "import requests\n",
    "\n",
    "target = \"http://google.com\"\n",
    "response = requests.get(url=target)\n",
    "#print(response.text)"
   ]
  },
  {
   "cell_type": "markdown",
   "metadata": {},
   "source": [
    "# REST 구성요소\n",
    "* 자원 : URI 이용\n",
    "* 행위 : HTTP 메서드 이용\n",
    "* 표현 : 페이로드를 이용\n",
    "\n",
    "### 클라이언트 ---------------------------> 서버\n",
    "        - URI : https://www.example.com/users\n",
    "        - HTTP Method : POST\n",
    "        - Payload : {\"id\" : \"gildong\", \"password\" : \"1231!@#!@#\" }\n",
    "        \n",
    "        \n",
    "# API\n",
    " 프로그램이 상호작용하기 위한 인터페이스 의미\n",
    " * REST API : REST 아키텍처를 따르는 API의미\n",
    " * REST API 호출 : REST 방식을 따르고 있는 서버에 특정한 요청을 전송하는 것을 의미\n",
    " "
   ]
  },
  {
   "cell_type": "markdown",
   "metadata": {},
   "source": [
    "# JSON\n",
    "* 데이터를 주고받는 데 사용하는 경량의 데이터 형식\n",
    "* JSON 형식을 따르는 데이터 예시"
   ]
  },
  {
   "cell_type": "code",
   "execution_count": 4,
   "metadata": {},
   "outputs": [
    {
     "data": {
      "text/plain": [
       "{'id': 'gildong123',\n",
       " 'password': '1123@#$12',\n",
       " 'age': 30,\n",
       " 'hobby': ['football', 'programming']}"
      ]
     },
     "execution_count": 4,
     "metadata": {},
     "output_type": "execute_result"
    }
   ],
   "source": [
    "{\n",
    "    \"id\" : \"gildong123\",\n",
    "    \"password\" : \"1123@#$12\",\n",
    "    \"age\" : 30,\n",
    "    \"hobby\" : [\"football\", \"programming\"]\n",
    "}"
   ]
  },
  {
   "cell_type": "markdown",
   "metadata": {},
   "source": [
    "* JSON 데이터는 키와 값의 쌍으로 이루어진 데이터 객체를 저장\n",
    "\n",
    "<br>\n",
    "\n",
    "### JSON 객체 사용 예시"
   ]
  },
  {
   "cell_type": "code",
   "execution_count": 6,
   "metadata": {},
   "outputs": [
    {
     "name": "stdout",
     "output_type": "stream",
     "text": [
      "{\n",
      "    \"id\": \"gildong123\",\n",
      "    \"password\": \"1123@#$12\",\n",
      "    \"age\": 30,\n",
      "    \"hobby\": [\n",
      "        \"football\",\n",
      "        \"programming\"\n",
      "    ]\n",
      "}\n"
     ]
    }
   ],
   "source": [
    "import json\n",
    "\n",
    "# dict 형태로 key : value로 되어 있음\n",
    "user = {\n",
    "            \"id\" : \"gildong123\",\n",
    "            \"password\" : \"1123@#$12\",\n",
    "            \"age\" : 30,\n",
    "            \"hobby\" : [\"football\", \"programming\"]\n",
    "        }\n",
    "\n",
    "# 받아 온 user 데이터를 dump method를 사용하여 json 객체로 만들어 줌\n",
    "# indent는 들여쓰기를 말함\n",
    "json_data = json.dumps(user, indent = 4)\n",
    "print(json_data)"
   ]
  },
  {
   "cell_type": "markdown",
   "metadata": {},
   "source": [
    "### JSON 객체 파일 저장 예제"
   ]
  },
  {
   "cell_type": "code",
   "execution_count": 7,
   "metadata": {},
   "outputs": [],
   "source": [
    "\n",
    "import json\n",
    "\n",
    "# dict 형태로 key : value로 되어 있음\n",
    "user = {\n",
    "            \"id\" : \"gildong123\",\n",
    "            \"password\" : \"1123@#$12\",\n",
    "            \"age\" : 30,\n",
    "            \"hobby\" : [\"football\", \"programming\"]\n",
    "        }\n",
    "\n",
    "# 하나의 파일 형태로 기록\n",
    "# 파일 입출력으로 json 파일을 만들고 쓰기 권한으로\n",
    "# 한글이 추가 되는 encoding=\"utf-8\"\n",
    "with open(\"user.json\", \"w\", encoding=\"utf-8\") as file :\n",
    "    json_data = json.dump(user, file, indent = 4)"
   ]
  },
  {
   "cell_type": "markdown",
   "metadata": {},
   "source": [
    "# REST API\n",
    "\n",
    "http://jsonplaceholder.typicode.com/"
   ]
  },
  {
   "cell_type": "code",
   "execution_count": 9,
   "metadata": {},
   "outputs": [
    {
     "name": "stdout",
     "output_type": "stream",
     "text": [
      "['Leanne Graham', 'Ervin Howell', 'Clementine Bauch', 'Patricia Lebsack', 'Chelsey Dietrich', 'Mrs. Dennis Schulist', 'Kurtis Weissnat', 'Nicholas Runolfsdottir V', 'Glenna Reichert', 'Clementina DuBuque']\n"
     ]
    }
   ],
   "source": [
    "import requests\n",
    "\n",
    "target = \"https://jsonplaceholder.typicode.com/users\"\n",
    "response = requests.get(url = target)\n",
    "\n",
    "# 받은 데이터가 json 형태면 그대로 받아서 파이썬 객체로 사용 가능\n",
    "data = response.json()\n",
    "\n",
    "name_list = []\n",
    "for user in data :\n",
    "    name_list.append(user['name'])\n",
    "    \n",
    "print(name_list)"
   ]
  },
  {
   "cell_type": "code",
   "execution_count": null,
   "metadata": {},
   "outputs": [],
   "source": []
  }
 ],
 "metadata": {
  "kernelspec": {
   "display_name": "Python 3",
   "language": "python",
   "name": "python3"
  },
  "language_info": {
   "codemirror_mode": {
    "name": "ipython",
    "version": 3
   },
   "file_extension": ".py",
   "mimetype": "text/x-python",
   "name": "python",
   "nbconvert_exporter": "python",
   "pygments_lexer": "ipython3",
   "version": "3.8.5"
  }
 },
 "nbformat": 4,
 "nbformat_minor": 4
}
